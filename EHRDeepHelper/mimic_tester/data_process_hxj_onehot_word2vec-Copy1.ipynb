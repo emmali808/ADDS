{
 "cells": [
  {
   "cell_type": "code",
   "execution_count": 1,
   "metadata": {},
   "outputs": [
    {
     "name": "stdout",
     "output_type": "stream",
     "text": [
      "49406\n",
      "217088\n",
      "69607\n"
     ]
    }
   ],
   "source": [
    "import pandas as pd\n",
    "import os\n",
    "def load_rel():\n",
    "    pmi_threshold = 1\n",
    "    base_dir = '/home/lf/桌面/MIMIC全/mimic_tester/'\n",
    "    \n",
    "    rel_dir = os.path.join(base_dir,'../self_kg/')\n",
    "    diag_proce_df = pd.read_csv(rel_dir+'diag_proce_rel.csv',sep='\\t')\n",
    "    diag_proce_df = diag_proce_df[diag_proce_df['pmi']>pmi_threshold]\n",
    "    diag_pres_df = pd.read_csv(rel_dir+'diag_pres_rel.csv',sep='\\t',dtype={'tail ent':str})\n",
    "    diag_pres_df = diag_pres_df[diag_pres_df['pmi']>pmi_threshold]\n",
    "    proce_pres_df = pd.read_csv(rel_dir+'proce_pres_rel.csv',sep='\\t',dtype={'tail ent':str})\n",
    "    proce_pres_df = proce_pres_df[proce_pres_df['pmi']>pmi_threshold]\n",
    "\n",
    "    ndc2rxnorm_file = os.path.join(base_dir,'ndc_atc/ndc2rxnorm_mapping.txt')\n",
    "    with open(ndc2rxnorm_file,'r') as f:\n",
    "        ndc2rxnorm = eval(f.read())\n",
    "\n",
    "    diag_proce_pairs = []\n",
    "    diag_proce_df.apply(lambda row:diag_proce_pairs.append(str(row['head ent'])+'-'+str(row['tail ent'])),axis=1)\n",
    "\n",
    "    diag_pres_pairs = []\n",
    "    diag_pres_df.apply(lambda row:diag_pres_pairs.append(str(row['head ent'])+'-'+ndc2rxnorm[row['tail ent']]),axis=1)\n",
    "\n",
    "    proce_pres_pairs = []\n",
    "    proce_pres_df.apply(lambda row:proce_pres_pairs.append(str(row['head ent'])+'-'+ndc2rxnorm[row['tail ent']]),axis=1)\n",
    "    \n",
    "    return diag_proce_pairs,diag_pres_pairs,proce_pres_pairs\n",
    "                     \n",
    "    \n",
    "REL_INFOS = load_rel()\n",
    "\n",
    "print(len(REL_INFOS[0]))\n",
    "print(len(REL_INFOS[1]))\n",
    "print(len(REL_INFOS[2]))"
   ]
  },
  {
   "cell_type": "code",
   "execution_count": 4,
   "metadata": {},
   "outputs": [
    {
     "name": "stdout",
     "output_type": "stream",
     "text": [
      "942\n"
     ]
    }
   ],
   "source": [
    "import pickle\n",
    "# diag_input = open('../baselines/med2vec-master/diag.3digitICD9.seqs', 'rb')\n",
    "diag_input = open('../baselines/med2vec-master/diag.types', 'rb')\n",
    "print(len(pickle.load(diag_input)))"
   ]
  },
  {
   "cell_type": "code",
   "execution_count": 5,
   "metadata": {},
   "outputs": [
    {
     "name": "stdout",
     "output_type": "stream",
     "text": [
      "['41401', 'V3001', '41071', 'V3000', '0389', '4241']\n"
     ]
    }
   ],
   "source": [
    "import pandas as pd\n",
    "import numpy as np\n",
    "from pylmnn import LargeMarginNearestNeighbor\n",
    "from sklearn.cluster import KMeans\n",
    "from sklearn.neighbors import KNeighborsClassifier\n",
    "\n",
    "train_file = '../self_dataset/train_admissions.csv'\n",
    "test_file = '../self_dataset/test_admissions.csv'\n",
    "\n",
    "# atherosclerosis 440;heart failure i50; chronic kidney n18; pneumonia 486;\n",
    "# disease_cohorts = ['440','i50']\n",
    "train_admission_df = pd.read_csv(train_file)\n",
    "test_admission_df = pd.read_csv(test_file)\n",
    "disease_cohorts = list(train_admission_df['disease'].value_counts().index.values[:6])\n",
    "print(disease_cohorts)\n",
    "\n",
    "# train_admission_df = train_admission_df[train_admission_df['disease'].isin(disease_cohorts)]\n",
    "# print(len(train_admission_df))\n",
    "# test_admission_df = test_admission_df[test_admission_df['disease'].isin(disease_cohorts)]\n",
    "# print(len(test_admission_df))\n",
    "\n",
    "# train_admission_df.to_csv('../large_cluster_dataset/train_admissions.csv',index=False)\n",
    "# test_admission_df.to_csv('../large_cluster_dataset/test_admissions.csv',index=False)"
   ]
  },
  {
   "cell_type": "code",
   "execution_count": 2,
   "metadata": {},
   "outputs": [],
   "source": [
    "from sklearn.metrics.cluster import normalized_mutual_info_score\n",
    "def purity(result, label):\n",
    "    # 计算纯度\n",
    "    total_num = len(label)\n",
    "    cluster_counter = collections.Counter(result)\n",
    "    original_counter = collections.Counter(label)\n",
    "    t = []\n",
    "    for k in cluster_counter:\n",
    "        p_k = []\n",
    "        for j in original_counter:\n",
    "            count = 0\n",
    "            for i in range(len(result)):\n",
    "                if result[i] == k and label[i] == j: # 求交集\n",
    "                    count += 1\n",
    "            p_k.append(count)\n",
    "        temp_t = max(p_k)\n",
    "        t.append(temp_t)\n",
    "    \n",
    "    return sum(t)/total_num\n",
    "\n",
    "def rand_index(result, label):\n",
    "    \n",
    "    total_num = len(label)\n",
    "    \n",
    "    TP = TN = FP = FN = 0\n",
    "    for i in range(total_num):\n",
    "        for j in range(i + 1, total_num):\n",
    "            if label[i] == label[j] and result[i] == result[j]:\n",
    "                TP += 1\n",
    "            elif label[i] != label[j] and result[i] != result[j]:\n",
    "                TN += 1\n",
    "            elif label[i] != label[j] and result[i] == result[j]:\n",
    "                FP += 1\n",
    "            elif label[i] == label[j] and result[i] != result[j]:\n",
    "                FN += 1\n",
    "    \n",
    "    return 1.0*(TP + TN)/(TP + FP + FN + TN)"
   ]
  },
  {
   "cell_type": "code",
   "execution_count": 17,
   "metadata": {},
   "outputs": [
    {
     "name": "stdout",
     "output_type": "stream",
     "text": [
      "['V3001', 'V502', '2724', 'V3000', 'V290', '4019']\n",
      "data construct done\n",
      "Eudician KMeans result\n",
      "3959\n",
      "onehot with kmeans result \n"
     ]
    },
    {
     "data": {
      "image/png": "[encoded data removed]",
      "text/plain": [
       "<Figure size 432x288 with 1 Axes>"
      ]
     },
     "metadata": {},
     "output_type": "display_data"
    },
    {
     "name": "stdout",
     "output_type": "stream",
     "text": [
      "1.079236\n",
      "2242\n",
      "0.00048137198929527214\n",
      "{'accu': 0.5927743086529884, 'precision': 0.5963864580859509, 'recall': 0.5680815336700714, 'f1': 0.5786041055916359}\n",
      "purity  0.5196253345227475  nmi  0.3678496847514569  ri  0.7369726701433547\n",
      "63.183404\n",
      "2242\n",
      "0.02818171454058876\n"
     ]
    },
    {
     "data": {
      "text/plain": [
       "<Figure size 432x288 with 0 Axes>"
      ]
     },
     "metadata": {},
     "output_type": "display_data"
    }
   ],
   "source": [
    "from pylmnn import LargeMarginNearestNeighbor\n",
    "from sklearn.cluster import KMeans\n",
    "import pandas as pd\n",
    "import numpy as np\n",
    "\n",
    "import datetime\n",
    "\n",
    "train_file = '../large_cluster_dataset/train_admissions.csv'\n",
    "test_file = '../large_cluster_dataset/test_admissions.csv'\n",
    "\n",
    "# atherosclerosis 440;heart failure i50; chronic kidney n18; pneumonia 486;\n",
    "# disease_cohorts = ['440','i50']\n",
    "train_admission_df = pd.read_csv(train_file)\n",
    "test_admission_df = pd.read_csv(test_file)\n",
    "disease_cohorts = list(set(train_admission_df['disease'].values))\n",
    "print(disease_cohorts)\n",
    "\n",
    "import collections\n",
    "\n",
    "def cal_metric(clusters,cohorts):\n",
    "    me_purity = purity(clusters, cohorts)\n",
    "    me_nmi = normalized_mutual_info_score(clusters, cohorts)\n",
    "    me_ri = rand_index(clusters, cohorts)\n",
    "    print('purity ',me_purity,' nmi ',me_nmi,' ri ',me_ri)\n",
    "\n",
    "def construct_x_y(train_admission_df,test_admission_df,diseases):\n",
    "    \n",
    "    atc_codes, diag_codes, proce_codes = [], [], []\n",
    "    train_admission_df['ATC'].apply(lambda x:atc_codes.extend(x.split(',')))\n",
    "    train_admission_df['ICD9_DIAG'].apply(lambda x:diag_codes.extend(x.split(',')))\n",
    "    train_admission_df['ICD9_PROCE'].apply(lambda x:proce_codes.extend(x.split(',')))\n",
    "    test_admission_df['ATC'].apply(lambda x:atc_codes.extend(x.split(',')))\n",
    "    test_admission_df['ICD9_DIAG'].apply(lambda x:diag_codes.extend(x.split(',')))\n",
    "    test_admission_df['ICD9_PROCE'].apply(lambda x:proce_codes.extend(x.split(',')))\n",
    "    \n",
    "    \n",
    "    atc_codes = list(set(atc_codes))\n",
    "    diag_codes = list(set(diag_codes))\n",
    "    proce_codes = list(set(proce_codes))\n",
    "    medical_code_num = len(diag_codes)+len(proce_codes)+len(atc_codes)\n",
    "\n",
    "    print(medical_code_num)\n",
    "    \n",
    "    res = []\n",
    "    for admission_df in  [train_admission_df,test_admission_df]:\n",
    "    # for admission_df in  [test_admission_df]:\n",
    "        cnt = 0\n",
    "        admissions_reps, y = np.zeros((len(admission_df),medical_code_num)), []\n",
    "        for idx,row in admission_df.iterrows():\n",
    "            code_idxs = np.array([diag_codes.index(diag_code) for diag_code in row['ICD9_DIAG'].split(',')])\n",
    "            code_idxs = np.concatenate((code_idxs, len(diag_codes)+np.array([proce_codes.index(proce_code) for proce_code in row['ICD9_PROCE'].split(',')])))\n",
    "            code_idxs = np.concatenate((code_idxs, len(diag_codes)+len(proce_codes)+np.array([atc_codes.index(atc_code) for atc_code in row['ATC'].split(',')])))\n",
    "\n",
    "            admissions_reps[cnt,code_idxs]=1\n",
    "            cnt+=1\n",
    "\n",
    "            y.append(diseases.index(row['disease']))\n",
    "        res.append((admissions_reps, np.array(y)))\n",
    "        \n",
    "    return res\n",
    "    # return admissions_reps,np.array(y)    \n",
    "\n",
    "print('data construct done')\n",
    "\n",
    "print('Eudician KMeans result')\n",
    "start= datetime.datetime.now()\n",
    "\n",
    "(train_x,train_y),(test_x, test_y) = construct_x_y(train_admission_df,test_admission_df,disease_cohorts)\n",
    "# test_x, test_y = construct_x_y(train_admission_df,test_admission_df,disease_cohorts)\n",
    "\n",
    "print('onehot with kmeans result ')\n",
    "plot_embedding(test_x,test_y,'label for onehot')\n",
    "get_top_k_results(test_x,train_x,train_y,test_y)\n",
    "\n",
    "total_time = (datetime.datetime.now()-start).total_seconds()\n",
    "\n",
    "neigh = KMeans(n_clusters=6,random_state=0)\n",
    "result = neigh.fit_predict(test_x)\n",
    "\n",
    "cal_metric(result,test_y)\n",
    "\n",
    "\n",
    "print(total_time)\n",
    "## onehot 下游任务时间\n",
    "print(len(result))\n",
    "print(total_time/len(result))\n",
    "\n"
   ]
  },
  {
   "cell_type": "code",
   "execution_count": 9,
   "metadata": {},
   "outputs": [
    {
     "name": "stdout",
     "output_type": "stream",
     "text": [
      "True\n"
     ]
    }
   ],
   "source": [
    "import torch\n",
    "a = torch.cuda.is_available()\n",
    "print(a)"
   ]
  },
  {
   "cell_type": "code",
   "execution_count": 10,
   "metadata": {},
   "outputs": [
    {
     "data": {
      "text/plain": [
       "0.03740166144302971"
      ]
     },
     "execution_count": 10,
     "metadata": {},
     "output_type": "execute_result"
    }
   ],
   "source": [
    "114.561289/3063"
   ]
  },
  {
   "cell_type": "code",
   "execution_count": 3,
   "metadata": {},
   "outputs": [],
   "source": [
    "from sklearn.manifold import TSNE\n",
    "import matplotlib.pyplot as plt\n",
    "\n",
    "def plot_embedding(data, label, title):\n",
    "    tsne = TSNE(n_components=2, init='pca', random_state=0)\n",
    "    data, label = tsne.fit_transform(data), np.array(label)\n",
    "\n",
    "#     x_min, x_max = np.min(data,0), np.max(data,0)\n",
    "#     data = (data-x_min)/(x_max-x_min)\n",
    "    \n",
    "    fig = plt.figure()\n",
    "    ax  = plt.subplot(111)\n",
    "    \n",
    "    plt.scatter(data[:,0],data[:,1],s=5,c=label*10)\n",
    "        \n",
    "    plt.xticks([])\n",
    "    plt.yticks([])\n",
    "    plt.title(title)\n",
    "    plt.show()\n",
    "    plt.savefig(\"test.svg\", format=\"svg\")\n",
    "\n",
    "# plot_embedding(test_x,test_y,'label for onehot')\n",
    "    "
   ]
  },
  {
   "cell_type": "code",
   "execution_count": 10,
   "metadata": {},
   "outputs": [
    {
     "name": "stdout",
     "output_type": "stream",
     "text": [
      "itml with kmeans result\n"
     ]
    },
    {
     "ename": "NameError",
     "evalue": "name 'train_x' is not defined",
     "output_type": "error",
     "traceback": [
      "\u001b[0;31m---------------------------------------------------------------------------\u001b[0m",
      "\u001b[0;31mNameError\u001b[0m                                 Traceback (most recent call last)",
      "\u001b[0;32m<ipython-input-10-7fea8e245940>\u001b[0m in \u001b[0;36m<module>\u001b[0;34m\u001b[0m\n\u001b[1;32m      4\u001b[0m \u001b[0;34m\u001b[0m\u001b[0m\n\u001b[1;32m      5\u001b[0m \u001b[0mitml\u001b[0m \u001b[0;34m=\u001b[0m \u001b[0mITML_Supervised\u001b[0m\u001b[0;34m(\u001b[0m\u001b[0;34m)\u001b[0m\u001b[0;34m\u001b[0m\u001b[0;34m\u001b[0m\u001b[0m\n\u001b[0;32m----> 6\u001b[0;31m \u001b[0mitml\u001b[0m\u001b[0;34m.\u001b[0m\u001b[0mfit\u001b[0m\u001b[0;34m(\u001b[0m\u001b[0mtrain_x\u001b[0m\u001b[0;34m,\u001b[0m\u001b[0mtrain_y\u001b[0m\u001b[0;34m)\u001b[0m\u001b[0;34m\u001b[0m\u001b[0;34m\u001b[0m\u001b[0m\n\u001b[0m\u001b[1;32m      7\u001b[0m \u001b[0mprint\u001b[0m\u001b[0;34m(\u001b[0m\u001b[0;34m'training done'\u001b[0m\u001b[0;34m)\u001b[0m\u001b[0;34m\u001b[0m\u001b[0;34m\u001b[0m\u001b[0m\n\u001b[1;32m      8\u001b[0m \u001b[0;34m\u001b[0m\u001b[0m\n",
      "\u001b[0;31mNameError\u001b[0m: name 'train_x' is not defined"
     ]
    }
   ],
   "source": [
    "from metric_learn  import ITML_Supervised\n",
    "\n",
    "print('itml with kmeans result')\n",
    "\n",
    "itml = ITML_Supervised()\n",
    "itml.fit(train_x,train_y)\n",
    "print('training done')\n",
    "\n",
    "test_predict = KMeans(n_clusters=6).fit_predict(itml.transform(test_x))\n",
    "cal_metric(test_predict,test_y)"
   ]
  },
  {
   "cell_type": "code",
   "execution_count": 56,
   "metadata": {},
   "outputs": [
    {
     "name": "stdout",
     "output_type": "stream",
     "text": [
      "LMNN with kmeans result\n",
      "training done\n",
      "purity  0.9511278195488722  nmi  0.9002618395709596  ri  0.9624767247271785\n"
     ]
    }
   ],
   "source": [
    "print('LMNN with kmeans result')\n",
    "#LMNN with KMeans\n",
    "k=4\n",
    "lmnn = LargeMarginNearestNeighbor(n_neighbors=k, random_state=100)\n",
    "lmnn.fit(train_x,train_y)\n",
    "print('training done')\n",
    "\n",
    "test_predict = KMeans(n_clusters=6).fit_predict(lmnn.transform(test_x))\n",
    "cal_metric(test_predict,test_y)"
   ]
  },
  {
   "cell_type": "code",
   "execution_count": 8,
   "metadata": {},
   "outputs": [
    {
     "name": "stdout",
     "output_type": "stream",
     "text": [
      "nca with kmeans result\n"
     ]
    },
    {
     "ename": "NameError",
     "evalue": "name 'train_x' is not defined",
     "output_type": "error",
     "traceback": [
      "\u001b[0;31m---------------------------------------------------------------------------\u001b[0m",
      "\u001b[0;31mNameError\u001b[0m                                 Traceback (most recent call last)",
      "\u001b[0;32m<ipython-input-8-39ad5e69a6ae>\u001b[0m in \u001b[0;36m<module>\u001b[0;34m\u001b[0m\n\u001b[1;32m      3\u001b[0m \u001b[0;32mfrom\u001b[0m \u001b[0msklearn\u001b[0m\u001b[0;34m.\u001b[0m\u001b[0mmetrics\u001b[0m\u001b[0;34m.\u001b[0m\u001b[0mpairwise\u001b[0m \u001b[0;32mimport\u001b[0m \u001b[0meuclidean_distances\u001b[0m\u001b[0;34m\u001b[0m\u001b[0;34m\u001b[0m\u001b[0m\n\u001b[1;32m      4\u001b[0m \u001b[0mnca\u001b[0m \u001b[0;34m=\u001b[0m \u001b[0mNCA\u001b[0m\u001b[0;34m(\u001b[0m\u001b[0;34m)\u001b[0m\u001b[0;34m\u001b[0m\u001b[0;34m\u001b[0m\u001b[0m\n\u001b[0;32m----> 5\u001b[0;31m \u001b[0mnca\u001b[0m\u001b[0;34m.\u001b[0m\u001b[0mfit\u001b[0m\u001b[0;34m(\u001b[0m\u001b[0mtrain_x\u001b[0m\u001b[0;34m,\u001b[0m\u001b[0mtrain_y\u001b[0m\u001b[0;34m)\u001b[0m\u001b[0;34m\u001b[0m\u001b[0;34m\u001b[0m\u001b[0m\n\u001b[0m\u001b[1;32m      6\u001b[0m \u001b[0mprint\u001b[0m\u001b[0;34m(\u001b[0m\u001b[0;34m'training done'\u001b[0m\u001b[0;34m)\u001b[0m\u001b[0;34m\u001b[0m\u001b[0;34m\u001b[0m\u001b[0m\n\u001b[1;32m      7\u001b[0m \u001b[0;34m\u001b[0m\u001b[0m\n",
      "\u001b[0;31mNameError\u001b[0m: name 'train_x' is not defined"
     ]
    }
   ],
   "source": [
    "print('nca with kmeans result')\n",
    "from metric_learn import NCA\n",
    "from sklearn.metrics.pairwise import euclidean_distances\n",
    "nca = NCA()\n",
    "nca.fit(train_x,train_y)\n",
    "print('training done')\n",
    "\n",
    "train_embs, test_embs = nca.transform(train_x), nca.transform(test_x)\n",
    "plot_embedding(nca.transform(test_x),test_y,'label for nca')\n",
    "\n",
    "test_predict = KMeans(n_clusters=6).fit_predict(nca.transform(test_x))\n",
    "cal_metric(test_predict,test_y)"
   ]
  },
  {
   "cell_type": "code",
   "execution_count": 15,
   "metadata": {
    "scrolled": true
   },
   "outputs": [
    {
     "name": "stdout",
     "output_type": "stream",
     "text": [
      "['V3001', 'V502', '2724', 'V3000', 'V290', '4019']\n",
      "## 预训练任务\n",
      "0.639561\n",
      "glove result\n",
      "purity  0.44424620874219445  nmi  0.3656047340665207  ri  0.6955254858267443\n"
     ]
    },
    {
     "data": {
      "image/png": "[encoded data removed]",
      "text/plain": [
       "<Figure size 432x288 with 1 Axes>"
      ]
     },
     "metadata": {},
     "output_type": "display_data"
    },
    {
     "name": "stdout",
     "output_type": "stream",
     "text": [
      "## 集群任务\n",
      "17.809983\n",
      "2242\n",
      "0.007943792595896521\n",
      "0.416408\n",
      "2242\n",
      "0.00018573059768064228\n",
      "{'accu': 0.12488849241748438, 'precision': 0.023470429728747102, 'recall': 0.1646532046792727, 'f1': 0.03939624209081192}\n",
      "## 预测任务\n",
      "2.736714\n",
      "2242\n",
      "0.001220657448706512\n"
     ]
    },
    {
     "data": {
      "text/plain": [
       "\"train_corpus.extend(test_corpus)\\ntrain_path = 'fast_train_unsupervised.txt'#'fast_train.txt'\\ntrain_file = open(train_path,'w',encoding='utf-8')\\nfor train_doc, label in zip(train_corpus, train_y):\\n    train_file.write(train_doc+'\\n')  \\n    \\nimport fasttext\\nmodel = fasttext.train_unsupervised(train_path)\\n\\ntest_x = []\\nfor doc in test_corpus:\\n    test_x.append(np.mean([model[word] for word in doc.split()],axis=0))\\ntest_x = np.array(test_x)\\n\\ntest_predict = KMeans(n_clusters=6).fit_predict(test_x)\\ncal_metric(test_predict, test_y)\""
      ]
     },
     "execution_count": 15,
     "metadata": {},
     "output_type": "execute_result"
    },
    {
     "data": {
      "text/plain": [
       "<Figure size 432x288 with 0 Axes>"
      ]
     },
     "metadata": {},
     "output_type": "display_data"
    }
   ],
   "source": [
    "#GLOVE result\n",
    "\n",
    "import gensim\n",
    "from gensim.models import Doc2Vec\n",
    "from glove import Glove\n",
    "from glove import Corpus\n",
    "import pandas as pd\n",
    "import numpy as np\n",
    "import matplotlib.pyplot as plt\n",
    "\n",
    "from sklearn.manifold import TSNE\n",
    "from sklearn.cluster import KMeans\n",
    "\n",
    "\n",
    "def plot_embedding1(data, label, title):\n",
    "    tsne = TSNE(n_components=2, init='pca', random_state=0)\n",
    "    data, label = tsne.fit_transform(data), np.array(label)\n",
    "\n",
    "#     x_min, x_max = np.min(data,0), np.max(data,0)\n",
    "#     data = (data-x_min)/(x_max-x_min)\n",
    "    \n",
    "    fig = plt.figure()\n",
    "    ax  = plt.subplot(111)\n",
    "    \n",
    "    plt.scatter(data[:,0],data[:,1],s=5,c=label*10)\n",
    "        \n",
    "    plt.xticks([])\n",
    "    plt.yticks([])\n",
    "    plt.title(title)\n",
    "    plt.show()\n",
    "    plt.savefig(\"test.pdf\")\n",
    "\n",
    "\n",
    "train_file = '../large_cluster_dataset/train_admissions.csv'\n",
    "test_file = '../large_cluster_dataset/test_admissions.csv'\n",
    "\n",
    "# atherosclerosis 440;heart failure i50; chronic kidney n18; pneumonia 486;\n",
    "# disease_cohorts = ['440','i50']\n",
    "train_admission_df = pd.read_csv(train_file)\n",
    "test_admission_df = pd.read_csv(test_file)\n",
    "disease_cohorts = list(set(train_admission_df['disease'].values))\n",
    "diseases = list(set(train_admission_df['disease'].values))\n",
    "print(disease_cohorts)\n",
    "\n",
    "def construct_corpus_y(train_admission_df):\n",
    "    \n",
    "    corpus, y = [], []\n",
    "    train_admission_df['words'] = train_admission_df[['ATC','ICD9_DIAG','ICD9_PROCE']].apply(lambda x:' '.join(['a_'+atc_code for atc_code in x['ATC'].split(',')])+' '+\\\n",
    "                                                                                            ' '.join(['d_'+atc_code for atc_code in x['ICD9_DIAG'].split(',')])+' '+\\\n",
    "                                                                                                    ' '.join(['p_'+atc_code for atc_code in x['ICD9_PROCE'].split(',')]),axis=1) \n",
    "    for idx, row in train_admission_df.iterrows():\n",
    "        corpus.append(row['words'])\n",
    "        y.append(diseases.index(row['disease']))\n",
    "    return corpus,y\n",
    "\n",
    "train_corpus,train_y = construct_corpus_y(train_admission_df)\n",
    "test_corpus, test_y = construct_corpus_y(test_admission_df)\n",
    "# test_start = len(train_corpus)\n",
    "# train_corpus.extend(test_corpus)\n",
    "\n",
    "# from sklearn.feature_extraction.text import TfidfVectorizer\n",
    "# vectorizer = TfidfVectorizer()\n",
    "# x = vectorizer.fit_transform(test_corpus)\n",
    "\n",
    "# test_predict = KMeans(n_clusters=6).fit_predict(x)\n",
    "# cal_metric(test_predict,test_y)\n",
    "\n",
    "test_start_idx = len(train_corpus)\n",
    "train_corpus.extend(test_corpus)\n",
    "\n",
    "def parse_corpus(test_corpus):\n",
    "    ## \n",
    "    corpus_model = Corpus()\n",
    "    corpus_model.fit([line.split() for line in train_corpus])\n",
    "    glove = Glove()\n",
    "    glove.fit(corpus_model.matrix)\n",
    "    glove.add_dictionary(corpus_model.dictionary)\n",
    "    test_x = []\n",
    "    for line in test_corpus:\n",
    "        test_x.append(np.mean([glove.word_vectors[glove.dictionary[word]] for word in line.split()], axis = 0))\n",
    "    test_x = np.array(test_x)\n",
    "    return test_x\n",
    "\n",
    "import gensim\n",
    "from gensim.models import Doc2Vec, Word2Vec\n",
    "from glove import Glove\n",
    "from glove import Corpus\n",
    "\n",
    "import datetime\n",
    "# glove模型\n",
    "\n",
    "start = datetime.datetime.now()\n",
    "corpus_model = Corpus()\n",
    "corpus_model.fit([line.split() for line in train_corpus])\n",
    "glove = Glove()\n",
    "# glove.fit(corpus_model.matrix, epochs=1)\n",
    "glove.fit(corpus_model.matrix)\n",
    "glove.add_dictionary(corpus_model.dictionary)\n",
    "\n",
    "end = datetime.datetime.now()\n",
    "print('## 预训练任务')\n",
    "print((end-start).total_seconds())\n",
    "\n",
    "print('glove result')\n",
    "\n",
    "\n",
    "## 集群任务\n",
    "start = datetime.datetime.now()\n",
    "\n",
    "# test_x, train_x = parse_corpus(test_corpus), parse_corpus(train_corpus[:test_start_idx])\n",
    "test_x = parse_corpus(test_corpus)\n",
    "\n",
    "test_predict = KMeans(n_clusters=6).fit_predict(test_x)\n",
    "\n",
    "cal_metric(test_predict, test_y)\n",
    "plot_embedding1(test_x, test_y,'')\n",
    "\n",
    "end = datetime.datetime.now()\n",
    "print('## 集群任务')\n",
    "print((end-start).total_seconds())\n",
    "print(len(test_y))\n",
    "print(((end-start).total_seconds())/len(test_y))\n",
    "\n",
    "\n",
    "## 预测任务\n",
    "start = datetime.datetime.now()\n",
    "test_x, train_x = parse_corpus(test_corpus), parse_corpus(train_corpus[:test_start_idx])\n",
    "\n",
    "test_predict = KMeans(n_clusters=6).fit_predict(test_x)\n",
    "get_top_k_results(test_x,train_x, train_y, test_y)\n",
    "end = datetime.datetime.now()\n",
    "print('## 预测任务')\n",
    "print((end-start).total_seconds())\n",
    "print(len(test_y))\n",
    "print(((end-start).total_seconds())/len(test_y))\n",
    "\n",
    "# cal_metric(test_predict, test_y)\n",
    "\n",
    "\n",
    "\n",
    "## word2vec模型\n",
    "\"\"\"\n",
    "start = datetime.datetime.now()\n",
    "model = Word2Vec([line.split() for line in train_corpus], min_count=1)\n",
    "end = datetime.datetime.now()\n",
    "print('## 预训练任务')\n",
    "print((end-start).total_seconds())\n",
    "\n",
    "test_x = []\n",
    "## 集群任务\n",
    "start = datetime.datetime.now()\n",
    "for line in test_corpus:\n",
    "    test_x.append(np.mean([model.wv[word] for word in line.split()], axis=0))\n",
    "test_x = np.array(test_x)\n",
    "\n",
    "test_predict = KMeans(n_clusters=6).fit_predict(test_x)\n",
    "plot_embedding(test_x, test_y, '')\n",
    "cal_metric(test_predict, test_y)\n",
    "end = datetime.datetime.now()\n",
    "print('## 集群任务')\n",
    "print((end-start).total_seconds())\n",
    "print(len(test_y))\n",
    "print(((end-start).total_seconds())/len(test_y))\n",
    "\n",
    "\n",
    "\n",
    "\n",
    "\n",
    "## 预测任务\n",
    "start = datetime.datetime.now()\n",
    "test_x, train_x = parse_corpus(test_corpus), parse_corpus(train_corpus[:test_start_idx])\n",
    "get_top_k_results(test_x,train_x,train_y,test_y)\n",
    "end = datetime.datetime.now()\n",
    "print('## 预测任务')\n",
    "print((end-start).total_seconds())\n",
    "print(len(test_y))\n",
    "print(((end-start).total_seconds())/len(test_y))\n",
    "\"\"\"\n",
    "\n",
    "\n",
    "\"\"\"count, documents = 0, []\n",
    "for line in train_corpus:\n",
    "    documents.append(gensim.models.doc2vec.TaggedDocument(line.split(),[str(count)]))\n",
    "    count += 1\n",
    "    \n",
    "model = Doc2Vec(documents)\n",
    "test_x = []\n",
    "for _ in range(len(test_corpus)):\n",
    "    test_x.append(model.docvecs[str(test_start_idx)])\n",
    "    test_start_idx += 1\n",
    "test_x = np.array(test_x)\n",
    "\n",
    "test_predict = KMeans(n_clusters=6).fit_predict(test_x)\n",
    "cal_metric(test_predict, test_y)\"\"\"\n",
    "\n",
    "\"\"\"train_corpus.extend(test_corpus)\n",
    "train_path = 'fast_train_unsupervised.txt'#'fast_train.txt'\n",
    "train_file = open(train_path,'w',encoding='utf-8')\n",
    "for train_doc, label in zip(train_corpus, train_y):\n",
    "    train_file.write(train_doc+'\\n')  \n",
    "    \n",
    "import fasttext\n",
    "model = fasttext.train_unsupervised(train_path)\n",
    "\n",
    "test_x = []\n",
    "for doc in test_corpus:\n",
    "    test_x.append(np.mean([model[word] for word in doc.split()],axis=0))\n",
    "test_x = np.array(test_x)\n",
    "\n",
    "test_predict = KMeans(n_clusters=6).fit_predict(test_x)\n",
    "cal_metric(test_predict, test_y)\"\"\""
   ]
  },
  {
   "cell_type": "code",
   "execution_count": null,
   "metadata": {},
   "outputs": [],
   "source": [
    "len()"
   ]
  },
  {
   "cell_type": "code",
   "execution_count": 14,
   "metadata": {
    "scrolled": true
   },
   "outputs": [
    {
     "name": "stdout",
     "output_type": "stream",
     "text": [
      "onehot with kmeans result \n"
     ]
    }
   ],
   "source": [
    "from sklearn.metrics import accuracy_score,precision_score,f1_score,recall_score\n",
    "def report_metrics(true_labels,predict_labels):\n",
    "    return {'accu':accuracy_score(true_labels,predict_labels),'precision':precision_score(true_labels,predict_labels, average='macro'),'recall':recall_score(true_labels,predict_labels, average='macro'),'f1':f1_score(true_labels,predict_labels, average='macro')}\n",
    "\n",
    "\n",
    "# tmp = nca.transform(test_x)\n",
    "# train_tmp = nca.transform(train_x)\n",
    "\n",
    "from sklearn.metrics import pairwise_distances\n",
    "def get_top_k_results(tmp,train_tmp, train_y, test_y):\n",
    "    import datetime\n",
    "    ## onehot测试时间\n",
    "    start = datetime.datetime.now()\n",
    "    top_train_idx = np.argpartition(pairwise_distances(tmp,train_tmp),7,axis=1)[:,:7]\n",
    "\n",
    "    predict_labels  = []\n",
    "    for train_idx in top_train_idx:\n",
    "        candiates = [train_y[t_idx] for t_idx in train_idx]      \n",
    "        p_label = max(candiates,key=candiates.count)\n",
    "        predict_labels.append(p_label)\n",
    "    \n",
    "    end = (datetime.datetime.now()-start).total_seconds()\n",
    "    print(end)\n",
    "    print(len(test_y))\n",
    "    print((end/len(test_y)))   \n",
    "\n",
    "    print(report_metrics(test_y,predict_labels))\n",
    "\n",
    "print('onehot with kmeans result ')\n",
    "# get_top_k_results(test_x,train_x,train_y,test_y)\n",
    "# print('onehot nca with kmeans result')\n",
    "# get_top_k_results(nca.transform(test_x),nca.transform(train_x))\n",
    "# print('onehot lmnn with kmeans result')\n",
    "# get_top_k_results(lmnn.transform(test_x),lmnn.transform(train_x))\n",
    "# print('onehot itml with kmeans result')\n",
    "# get_top_k_results(itml.transform(test_x),itml.transform(train_x))"
   ]
  },
  {
   "cell_type": "code",
   "execution_count": 11,
   "metadata": {},
   "outputs": [
    {
     "name": "stdout",
     "output_type": "stream",
     "text": [
      "['0389', '41401', '4241', 'V3000', '41071', 'V3001']\n",
      "['0389', '41401', '4241', 'V3000', '41071', 'V3001']\n"
     ]
    },
    {
     "ename": "NameError",
     "evalue": "name 'ids' is not defined",
     "output_type": "error",
     "traceback": [
      "\u001b[0;31m---------------------------------------------------------------------------\u001b[0m",
      "\u001b[0;31mNameError\u001b[0m                                 Traceback (most recent call last)",
      "\u001b[0;32m<ipython-input-11-69f7c45d7e5b>\u001b[0m in \u001b[0;36m<module>\u001b[0;34m\u001b[0m\n\u001b[1;32m     15\u001b[0m \u001b[0;31m#     onehot_reps = np.zeros()\u001b[0m\u001b[0;34m\u001b[0m\u001b[0;34m\u001b[0m\u001b[0;34m\u001b[0m\u001b[0m\n\u001b[1;32m     16\u001b[0m     \u001b[0;32mfor\u001b[0m \u001b[0mcode\u001b[0m \u001b[0;32min\u001b[0m \u001b[0mcodes\u001b[0m\u001b[0;34m:\u001b[0m\u001b[0;34m\u001b[0m\u001b[0;34m\u001b[0m\u001b[0m\n\u001b[0;32m---> 17\u001b[0;31m         \u001b[0;32mif\u001b[0m \u001b[0mcode\u001b[0m \u001b[0;32min\u001b[0m \u001b[0mcode2id\u001b[0m\u001b[0;34m:\u001b[0m\u001b[0mids\u001b[0m\u001b[0;34m.\u001b[0m\u001b[0mappend\u001b[0m\u001b[0;34m(\u001b[0m\u001b[0mcode2id\u001b[0m\u001b[0;34m[\u001b[0m\u001b[0mcode\u001b[0m\u001b[0;34m]\u001b[0m\u001b[0;34m)\u001b[0m\u001b[0;34m\u001b[0m\u001b[0;34m\u001b[0m\u001b[0m\n\u001b[0m\u001b[1;32m     18\u001b[0m     \u001b[0mtest_x\u001b[0m\u001b[0;34m.\u001b[0m\u001b[0mappend\u001b[0m\u001b[0;34m(\u001b[0m\u001b[0;34m)\u001b[0m\u001b[0;34m\u001b[0m\u001b[0;34m\u001b[0m\u001b[0m\n",
      "\u001b[0;31mNameError\u001b[0m: name 'ids' is not defined"
     ]
    }
   ],
   "source": [
    "import pickle\n",
    "\n",
    "print(list(set(test_admission_df['disease'].values)))\n",
    "print(list(set(train_admission_df['disease'].values)))\n",
    "\n",
    "# def cal_visis_reps(onehot)\n",
    "\n",
    "# types_file = '../baselines/med2vec-master/all.types'\n",
    "# code2id = pickle.load(open(types_file,'rb'))\n",
    "# # print(code2id)\n",
    "# test_x = []\n",
    "# for idx, row in test_admission_df.iterrows():\n",
    "#     codes = ['diag_'+convert_to_3digit_icd9(diag_code) for diag_code in row['ICD9_DIAG'].split(',')]\n",
    "#     codes.extend(['proc_'+convert_to_3digit_icd9(diag_code) for diag_code in row['ICD9_DIAG'].split(',')])\n",
    "#     onehot_reps = np.zeros()\n",
    "#     for code in codes:\n",
    "#         if code in code2id:ids.append(code2id[code])\n",
    "#     test_x.append()"
   ]
  },
  {
   "cell_type": "code",
   "execution_count": 17,
   "metadata": {},
   "outputs": [
    {
     "name": "stdout",
     "output_type": "stream",
     "text": [
      "dictionary done...\n"
     ]
    }
   ],
   "source": [
    "import pandas as pd\n",
    "\n",
    "    \n",
    "procedure_file = '../PROCEDURES_ICD.csv'\n",
    "prescriptions_file = '../PRESCRIPTIONS.csv'\n",
    "diagnoses_file = '../DIAGNOSES_ICD.csv'\n",
    "\n",
    "proce_df = pd.read_csv(procedure_file)\n",
    "pres_df = pd.read_csv(prescriptions_file,dtype={'NDC':'category'})\n",
    "diag_df = pd.read_csv(diagnoses_file)\n",
    "\n",
    "pres_df.drop(index=pres_df[pres_df['NDC'] == '0'].index, axis=0, inplace=True)\n",
    "\n",
    "\n",
    "pres_df['ATC'] = pres_df['NDC'].map(ndc_atc_dic)\n",
    "\n",
    "proce_df['CODE'] = proce_df['ICD9_CODE'].apply(lambda x:'proc_'+str(x))\n",
    "proce_df = proce_df[['SUBJECT_ID','HADM_ID','CODE']]\n",
    "\n",
    "diag_df['CODE'] = diag_df['ICD9_CODE'].apply(lambda x:'diag_'+str(x))\n",
    "diag_df = diag_df[['SUBJECT_ID','HADM_ID','CODE']]\n",
    "\n",
    "pres_df['CODE'] = pres_df['ATC'].apply(lambda x:'pres_'+str(x))\n",
    "pres_df = pres_df[['SUBJECT_ID','HADM_ID','CODE']]\n",
    "\n",
    "all_df = pd.concat([proce_df,diag_df,pres_df],axis=0,ignore_index=True)\n",
    "all_df.to_csv('../all_seqs.csv',index=False)\n",
    "# print(pres_df.columns)\n",
    "# print(diag_df.columns)\n"
   ]
  },
  {
   "cell_type": "code",
   "execution_count": 20,
   "metadata": {},
   "outputs": [
    {
     "name": "stdout",
     "output_type": "stream",
     "text": [
      "dictionary done...\n"
     ]
    },
    {
     "ename": "FileNotFoundError",
     "evalue": "[Errno 2] No such file or directory: '../baselines/med2vec-master/diag4.4.npz'",
     "output_type": "error",
     "traceback": [
      "\u001b[0;31m---------------------------------------------------------------------------\u001b[0m",
      "\u001b[0;31mFileNotFoundError\u001b[0m                         Traceback (most recent call last)",
      "\u001b[0;32m<ipython-input-20-1884407c3c4e>\u001b[0m in \u001b[0;36m<module>\u001b[0;34m\u001b[0m\n\u001b[1;32m     74\u001b[0m \u001b[0;34m\u001b[0m\u001b[0m\n\u001b[1;32m     75\u001b[0m \u001b[0mdiag_params_file\u001b[0m \u001b[0;34m=\u001b[0m \u001b[0;34m'../baselines/med2vec-master/diag4.4.npz'\u001b[0m \u001b[0;31m#'../baselines/med2vec-master/diag.40.npz'#\u001b[0m\u001b[0;34m\u001b[0m\u001b[0;34m\u001b[0m\u001b[0m\n\u001b[0;32m---> 76\u001b[0;31m \u001b[0mdiag_params\u001b[0m \u001b[0;34m=\u001b[0m \u001b[0mnp\u001b[0m\u001b[0;34m.\u001b[0m\u001b[0mload\u001b[0m\u001b[0;34m(\u001b[0m\u001b[0mdiag_params_file\u001b[0m\u001b[0;34m)\u001b[0m\u001b[0;34m\u001b[0m\u001b[0;34m\u001b[0m\u001b[0m\n\u001b[0m\u001b[1;32m     77\u001b[0m \u001b[0;34m\u001b[0m\u001b[0m\n\u001b[1;32m     78\u001b[0m \u001b[0mproc_params_file\u001b[0m \u001b[0;34m=\u001b[0m \u001b[0;34m'../baselines/med2vec-master/proc.40.npz'\u001b[0m \u001b[0;31m#'../baselines/med2vec-master/diag.40.npz'#\u001b[0m\u001b[0;34m\u001b[0m\u001b[0;34m\u001b[0m\u001b[0m\n",
      "\u001b[0;32m~/anaconda3/envs/pytorch/lib/python3.6/site-packages/numpy/lib/npyio.py\u001b[0m in \u001b[0;36mload\u001b[0;34m(file, mmap_mode, allow_pickle, fix_imports, encoding)\u001b[0m\n\u001b[1;32m    426\u001b[0m         \u001b[0mown_fid\u001b[0m \u001b[0;34m=\u001b[0m \u001b[0;32mFalse\u001b[0m\u001b[0;34m\u001b[0m\u001b[0;34m\u001b[0m\u001b[0m\n\u001b[1;32m    427\u001b[0m     \u001b[0;32melse\u001b[0m\u001b[0;34m:\u001b[0m\u001b[0;34m\u001b[0m\u001b[0;34m\u001b[0m\u001b[0m\n\u001b[0;32m--> 428\u001b[0;31m         \u001b[0mfid\u001b[0m \u001b[0;34m=\u001b[0m \u001b[0mopen\u001b[0m\u001b[0;34m(\u001b[0m\u001b[0mos_fspath\u001b[0m\u001b[0;34m(\u001b[0m\u001b[0mfile\u001b[0m\u001b[0;34m)\u001b[0m\u001b[0;34m,\u001b[0m \u001b[0;34m\"rb\"\u001b[0m\u001b[0;34m)\u001b[0m\u001b[0;34m\u001b[0m\u001b[0;34m\u001b[0m\u001b[0m\n\u001b[0m\u001b[1;32m    429\u001b[0m         \u001b[0mown_fid\u001b[0m \u001b[0;34m=\u001b[0m \u001b[0;32mTrue\u001b[0m\u001b[0;34m\u001b[0m\u001b[0;34m\u001b[0m\u001b[0m\n\u001b[1;32m    430\u001b[0m \u001b[0;34m\u001b[0m\u001b[0m\n",
      "\u001b[0;31mFileNotFoundError\u001b[0m: [Errno 2] No such file or directory: '../baselines/med2vec-master/diag4.4.npz'"
     ]
    }
   ],
   "source": [
    "import pandas as pd\n",
    "import numpy as np\n",
    "import pickle\n",
    "from sklearn.cluster import KMeans\n",
    "import collections\n",
    "import datetime \n",
    "\n",
    "ndc2rxnorm_file = 'ndc_atc/ndc2rxnorm_mapping.txt'\n",
    "with open(ndc2rxnorm_file,'r') as f:\n",
    "    ndc_atc_dic = eval(f.read())\n",
    "print('dictionary done...')\n",
    "\n",
    "def convert_to_icd9(dxStr):\n",
    "\tif dxStr.startswith('E'):\n",
    "\t\tif len(dxStr) > 4: return dxStr[:4] + '.' + dxStr[4:]\n",
    "\t\telse: return dxStr\n",
    "\telse:\n",
    "\t\tif len(dxStr) > 3: return dxStr[:3] + '.' + dxStr[3:]\n",
    "\t\telse: return dxStr\n",
    "\n",
    "\n",
    "def convert_to_3digit_icd9(dxStr):\n",
    "\tif dxStr.startswith('E'):\n",
    "\t\tif len(dxStr) > 4: return dxStr[:4]\n",
    "\t\telse: return dxStr\n",
    "\telse:\n",
    "\t\tif len(dxStr) > 3: return dxStr[:3]\n",
    "\t\telse: return dxStr\n",
    "\n",
    "train_admission_df = pd.read_csv('../large_cluster_dataset/train_admissions.csv')\n",
    "test_admission_df = pd.read_csv('../large_cluster_dataset/test_admissions.csv')\n",
    "diseases = list(set(train_admission_df['disease'].values))\n",
    "\n",
    "\n",
    "def ndc_to_atc(ndcstr):\n",
    "    ndc_ls = []\n",
    "    for ndc in ndcstr.split(','):\n",
    "        if ndc in ndc_atc_dic:\n",
    "            ndc_ls.append(ndc_atc_dic[ndc])\n",
    "    return ','.join(ndc_ls)\n",
    "\n",
    "def parse_x(train_admission_df,typ='diag'):\n",
    "    train_admission_df['ATC_CODE'] = train_admission_df['NDC'].apply(ndc_to_atc)\n",
    "\n",
    "    # code_file = '../baselines/med2vec-master/'+typ+'.types'\n",
    "    code_file = '../baselines/med2vec-master/diag4.types'\n",
    "    code2id = pickle.load(open(code_file,'rb'))\n",
    "    code_nums = len(code2id)\n",
    "    \n",
    "    # print(code2id)\n",
    "\n",
    "    train_x,train_y = [], []\n",
    "    for idx,row in train_admission_df.iterrows():\n",
    "        if typ == 'diag':codes = ['D_'+convert_to_icd9(code) for code in row['ICD9_DIAG'].split(',')]\n",
    "        elif typ =='proc':codes = ['proc_'+code[:2] for code in row['ICD9_PROCE'].split(',')]\n",
    "        elif typ == 'pres':codes = ['pres_'+code[:3] for code in row['ATC_CODE'].split(',')]\n",
    "        removes = []\n",
    "        for code in codes:\n",
    "            if code2id.get(code, -1) == -1:\n",
    "                removes.append(code)\n",
    "        \n",
    "        for ii in removes:\n",
    "            codes.remove(ii)\n",
    "        \n",
    "        code_idxs = [code2id[code] for code in codes]\n",
    "\n",
    "        onehot_reps = np.zeros(code_nums)\n",
    "        onehot_reps[code_idxs] = 1\n",
    "\n",
    "        train_x.append(onehot_reps)\n",
    "\n",
    "        train_y.append(diseases.index(row['disease']))\n",
    "    return np.array(train_x), np.array(train_y)\n",
    "\n",
    "diag_params_file = '../baselines/med2vec-master/diag4.3.npz' #'../baselines/med2vec-master/diag.40.npz'#\n",
    "diag_params = np.load(diag_params_file)\n",
    "\n",
    "proc_params_file = '../baselines/med2vec-master/proc.40.npz' #'../baselines/med2vec-master/diag.40.npz'#\n",
    "proc_params = np.load(proc_params_file)\n",
    "\n",
    "pres_params_file = '../baselines/med2vec-master/pres.40.npz' #'../baselines/med2vec-master/diag.40.npz'#\n",
    "pres_params = np.load(pres_params_file)\n",
    "\n",
    "all_params_file = '../baselines/med2vec-master/all.20.npz'\n",
    "all_params = np.load(all_params_file)\n",
    "\n",
    "print(diag_params['W_emb'].shape)\n",
    "\n",
    "# pres_params_file = '../baselines/med2vec-master/pres.40.npz' #'../baselines/med2vec-master/diag.40.npz'#\n",
    "# pres_params = np.load(pres_params_file)\n",
    "\n",
    "# w_emb, b_emb, w_hidden, b_hidden = med2vec_params['W_emb'], med2vec_params['b_emb'], med2vec_params['W_hidden'], med2vec_params['b_hidden']\n",
    "# code_cnt = w_emb.shape\n",
    "\n",
    "def get_visis_reps(tparams,x):\n",
    "    print(\"x\", x.shape)\n",
    "    print(\"w\", tparams['W_emb'].shape)\n",
    "    k = x.dot(tparams['W_emb'])\n",
    "    \n",
    "    emb = np.maximum(k + tparams['b_emb'],0)\n",
    "    visit = np.maximum(emb.dot(tparams['W_hidden']) + tparams['b_hidden'], 0)\n",
    "    return visit\n",
    "#     emb = T.maximum(T.dot(x, tparams['W_emb']) + tparams['b_emb'],0)\n",
    "#     visit = T.maximum(T.dot(emb, tparams['W_hidden']) + tparams['b_hidden'],0)\n",
    "#     return visit\n",
    "\n",
    "## 集群任务时间\n",
    "start = datetime.datetime.now()\n",
    "\n",
    "diag_train_x, train_y = parse_x(train_admission_df,'diag')\n",
    "diag_test_x, test_y = parse_x(test_admission_df,'diag')\n",
    "\n",
    "# proc_train_x, train_y = parse_x(train_admission_df,'proc')\n",
    "# proc_test_x, test_y = parse_x(test_admission_df,'proc')\n",
    "\n",
    "# pres_train_x, train_y = parse_x(train_admission_df,'pres')\n",
    "# pres_test_x, test_y = parse_x(test_admission_df,'pres')\n",
    "\n",
    "# all_train_x, train_y = parse_x(train_admission_df,'all')\n",
    "# all_test_x, test_y = parse_x(test_admission_df,'all')\n",
    "\n",
    "diag_train_x = get_visis_reps(diag_params,diag_train_x)\n",
    "diag_test_x = get_visis_reps(diag_params,diag_test_x)\n",
    "\n",
    "# proc_train_x = get_visis_reps(proc_params,proc_train_x)\n",
    "# proc_test_x = get_visis_reps(proc_params,proc_test_x)\n",
    "\n",
    "# pres_train_x = get_visis_reps(pres_params,pres_train_x)\n",
    "# pres_test_x = get_visis_reps(pres_params,pres_test_x)\n",
    "\n",
    "# all_train_x = get_visis_reps(all_params ,all_train_x)\n",
    "# all_test_x = get_visis_reps(all_params,all_test_x)\n",
    "\n",
    "# parsed_train_x = (diag_train_x+proc_train_x+pres_train_x)/3\n",
    "# parsed_test_x = (diag_test_x+proc_test_x+pres_test_x)/3\n",
    "parsed_train_x = diag_train_x\n",
    "parsed_test_x = diag_test_x\n",
    "\n",
    "def cal_metric(clusters,cohorts):\n",
    "    me_purity = purity(clusters, cohorts)\n",
    "    me_nmi = normalized_mutual_info_score(clusters, cohorts)\n",
    "    me_ri = rand_index(clusters, cohorts)\n",
    "    print('purity ',me_purity,' nmi ',me_nmi,' ri ',me_ri)\n",
    "\n",
    "    \n",
    "plot_embedding(parsed_test_x,test_y,'')\n",
    "\n",
    "end = datetime.datetime.now()\n",
    "print('集群任务时间')\n",
    "print((end-start).total_seconds())\n",
    "print(len(test_y))\n",
    "print((end-start).total_seconds()/len(test_y))\n",
    "\n",
    "## 预测任务时间\n",
    "start = datetime.datetime.now()\n",
    "test_predict = KMeans(n_clusters=6).fit_predict(parsed_test_x)\n",
    "cal_metric(test_predict,test_y)\n",
    "\n",
    "get_top_k_results(parsed_test_x,parsed_train_x, train_y, test_y)\n",
    "\n",
    "end = datetime.datetime.now()\n",
    "print('预测任务时间')\n",
    "print((end-start).total_seconds())\n",
    "print(len(test_y))\n",
    "print((end-start).total_seconds()/len(test_y))"
   ]
  },
  {
   "cell_type": "code",
   "execution_count": 25,
   "metadata": {},
   "outputs": [
    {
     "name": "stderr",
     "output_type": "stream",
     "text": [
      "0it [00:00, ?it/s]"
     ]
    },
    {
     "name": "stdout",
     "output_type": "stream",
     "text": [
      "<class 'int'>\n",
      "<class 'str'>\n",
      "163353\n"
     ]
    },
    {
     "name": "stderr",
     "output_type": "stream",
     "text": [
      "\n"
     ]
    }
   ],
   "source": [
    "import pandas as pd\n",
    "train_admission_df = pd.read_csv('../large_cluster_dataset/train_admissions.csv')\n",
    "for idx, row in train_admission_df.iterrows():\n",
    "    print(type(row['HADM_ID']))\n",
    "    break\n",
    "# test_admission_df = pd.read_csv('../large_cluster_dataset/test_admissions.csv')\n",
    "# valid_admission_df = pd.read_csv('../large_cluster_dataset/valid_admissions.csv')\n",
    "\n",
    "# print(len(train_admission_df), len(test_admission_df), len(valid_admission_df))\n",
    "\n",
    "# all_df = pd.concat([train_admission_df, valid_admission_df, test_admission_df],axis=0)\n",
    "# all_df.to_csv('../large_cluster_dataset/admissions.csv',index=False)\n",
    "import tqdm\n",
    "import csv\n",
    "from tqdm import tqdm\n",
    "f = open('../large_cluster_dataset/admissions.csv','r')\n",
    "for line in tqdm(csv.DictReader(f)):\n",
    "    encounter_id = line['HADM_ID']\n",
    "    print(type(encounter_id))\n",
    "    print(encounter_id)\n",
    "    break"
   ]
  },
  {
   "cell_type": "code",
   "execution_count": 76,
   "metadata": {},
   "outputs": [
    {
     "name": "stdout",
     "output_type": "stream",
     "text": [
      "0\n",
      "hello\n",
      "1\n",
      "world\n",
      "2\n",
      "jack\n",
      "0\n",
      "(1, 'hello')\n",
      "1\n",
      "(2, 'world')\n",
      "2\n",
      "(3, 'jack')\n"
     ]
    }
   ],
   "source": [
    "print(test_admission_df)\n",
    "print"
   ]
  }
 ],
 "metadata": {
  "interpreter": {
   "hash": "7f3890caa754d3044cdb79da81d23de89517aba85aa39c6945f27b74c06ace6a"
  },
  "kernelspec": {
   "display_name": "Python 3.6.9 64-bit ('pytorch': conda)",
   "name": "python3"
  },
  "language_info": {
   "codemirror_mode": {
    "name": "ipython",
    "version": 3
   },
   "file_extension": ".py",
   "mimetype": "text/x-python",
   "name": "python",
   "nbconvert_exporter": "python",
   "pygments_lexer": "ipython3",
   "version": "3.6.9"
  }
 },
 "nbformat": 4,
 "nbformat_minor": 4
}
